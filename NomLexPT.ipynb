{
 "cells": [
  {
   "cell_type": "code",
   "execution_count": 2,
   "id": "7ed4d080",
   "metadata": {},
   "outputs": [],
   "source": [
    "import pandas as pd\n",
    "import matplotlib.pyplot as plt\n",
    "import seaborn as sns\n"
   ]
  },
  {
   "cell_type": "code",
   "execution_count": 5,
   "id": "232def1a",
   "metadata": {},
   "outputs": [
    {
     "name": "stdout",
     "output_type": "stream",
     "text": [
      "   Col1           LemmaID        Lemma   POS  Col6  Col7  Col8  \\\n",
      "0   0.0       abafar#VERB       abafar  VERB   NaN   NaN   NaN   \n",
      "1   0.1     abafador#NOUN     abafador  NOUN   NaN   NaN   0.0   \n",
      "2   0.2   abafamento#NOUN   abafamento  NOUN   NaN   NaN   0.0   \n",
      "3   1.0      abaixar#VERB      abaixar  VERB   NaN   NaN   NaN   \n",
      "4   1.1  abaixamento#NOUN  abaixamento  NOUN   NaN   NaN   1.0   \n",
      "\n",
      "              Col9  Col10 Col11  \n",
      "0              NaN    NaN    {}  \n",
      "1  Type=Derivation    NaN    {}  \n",
      "2  Type=Derivation    NaN    {}  \n",
      "3              NaN    NaN    {}  \n",
      "4  Type=Derivation    NaN    {}  \n"
     ]
    }
   ],
   "source": [
    "# Carregando o arquivo de dados\n",
    "file_path = 'UDer-1.1-pt-NomLexPT.tsv'\n",
    "df = pd.read_csv(file_path, sep='\\t', header=None)\n",
    "\n",
    "# Renomeando as colunas\n",
    "df.columns = ['Col1', 'LemmaID', 'Lemma', 'POS', 'Col6', 'Col7', 'Col8', 'Col9', 'Col10', 'Col11']\n",
    "\n",
    "# Visualizando as primeiras linhas do DataFrame\n",
    "print(df.head())\n"
   ]
  },
  {
   "cell_type": "code",
   "execution_count": 6,
   "id": "6f357b2c",
   "metadata": {},
   "outputs": [
    {
     "name": "stdout",
     "output_type": "stream",
     "text": [
      "              Col1  Col6  Col7         Col8  Col10\n",
      "count  7020.000000   0.0   0.0  4201.000000    0.0\n",
      "mean   1405.576709   NaN   NaN  1403.134492    NaN\n",
      "std     816.836255   NaN   NaN   818.876401    NaN\n",
      "min       0.000000   NaN   NaN     0.000000    NaN\n",
      "25%     684.075000   NaN   NaN   671.000000    NaN\n",
      "50%    1416.700000   NaN   NaN  1422.000000    NaN\n",
      "75%    2109.125000   NaN   NaN  2105.000000    NaN\n",
      "max    2818.100000   NaN   NaN  2818.000000    NaN\n"
     ]
    }
   ],
   "source": [
    "# Resumo estatístico das colunas numéricas\n",
    "print(df.describe())\n"
   ]
  },
  {
   "cell_type": "code",
   "execution_count": 7,
   "id": "1d8ab38f",
   "metadata": {},
   "outputs": [
    {
     "name": "stdout",
     "output_type": "stream",
     "text": [
      "Col1       7020\n",
      "LemmaID    7020\n",
      "Lemma      7012\n",
      "POS           2\n",
      "Col6          0\n",
      "Col7          0\n",
      "Col8       2802\n",
      "Col9          1\n",
      "Col10         0\n",
      "Col11       103\n",
      "dtype: int64\n"
     ]
    }
   ],
   "source": [
    "\n",
    "# Contagem de valores únicos em cada coluna\n",
    "print(df.nunique())"
   ]
  },
  {
   "cell_type": "code",
   "execution_count": 8,
   "id": "6bf7c963",
   "metadata": {},
   "outputs": [
    {
     "name": "stdout",
     "output_type": "stream",
     "text": [
      "Col1       float64\n",
      "LemmaID     object\n",
      "Lemma       object\n",
      "POS         object\n",
      "Col6       float64\n",
      "Col7       float64\n",
      "Col8       float64\n",
      "Col9        object\n",
      "Col10      float64\n",
      "Col11       object\n",
      "dtype: object\n"
     ]
    }
   ],
   "source": [
    "\n",
    "\n",
    "# Verificando os tipos de dados das colunas\n",
    "print(df.dtypes)"
   ]
  },
  {
   "cell_type": "code",
   "execution_count": 9,
   "id": "4984b7fc",
   "metadata": {},
   "outputs": [
    {
     "data": {
      "image/png": "[encoded data removed]",
      "text/plain": [
       "<Figure size 576x432 with 1 Axes>"
      ]
     },
     "metadata": {
      "needs_background": "light"
     },
     "output_type": "display_data"
    }
   ],
   "source": [
    "\n",
    "\n",
    "# Gráfico de contagem das classes POS\n",
    "plt.figure(figsize=(8, 6))\n",
    "sns.countplot(data=df, x='POS')\n",
    "plt.title('Contagem de Classes POS')\n",
    "plt.xticks(rotation=45)\n",
    "plt.show()"
   ]
  },
  {
   "cell_type": "code",
   "execution_count": null,
   "id": "2f849893",
   "metadata": {},
   "outputs": [],
   "source": []
  },
  {
   "cell_type": "code",
   "execution_count": null,
   "id": "c2b002dc",
   "metadata": {},
   "outputs": [],
   "source": []
  },
  {
   "cell_type": "code",
   "execution_count": null,
   "id": "7e6c131a",
   "metadata": {},
   "outputs": [],
   "source": []
  },
  {
   "cell_type": "code",
   "execution_count": null,
   "id": "02fd3362",
   "metadata": {},
   "outputs": [],
   "source": []
  },
  {
   "cell_type": "code",
   "execution_count": null,
   "id": "c34c1b48",
   "metadata": {},
   "outputs": [],
   "source": []
  },
  {
   "cell_type": "code",
   "execution_count": null,
   "id": "b78dc2a5",
   "metadata": {},
   "outputs": [],
   "source": []
  },
  {
   "cell_type": "code",
   "execution_count": null,
   "id": "32736342",
   "metadata": {},
   "outputs": [],
   "source": []
  }
 ],
 "metadata": {
  "kernelspec": {
   "display_name": "Python 3 (ipykernel)",
   "language": "python",
   "name": "python3"
  },
  "language_info": {
   "codemirror_mode": {
    "name": "ipython",
    "version": 3
   },
   "file_extension": ".py",
   "mimetype": "text/x-python",
   "name": "python",
   "nbconvert_exporter": "python",
   "pygments_lexer": "ipython3",
   "version": "3.8.12"
  }
 },
 "nbformat": 4,
 "nbformat_minor": 5
}
