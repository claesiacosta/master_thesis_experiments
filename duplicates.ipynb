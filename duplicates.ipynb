{
 "cells": [
  {
   "cell_type": "code",
   "execution_count": 1,
   "id": "283e221e",
   "metadata": {},
   "outputs": [],
   "source": [
    "import pandas as pd"
   ]
  },
  {
   "cell_type": "code",
   "execution_count": 9,
   "id": "6357fb74",
   "metadata": {},
   "outputs": [
    {
     "name": "stderr",
     "output_type": "stream",
     "text": [
      "/opt/anaconda3/lib/python3.8/site-packages/IPython/core/interactiveshell.py:3444: DtypeWarning: Columns (3,5,6,9,10,14) have mixed types.Specify dtype option on import or set low_memory=False.\n",
      "  exec(code_obj, self.user_global_ns, self.user_ns)\n"
     ]
    }
   ],
   "source": [
    "# loading datasets\n",
    "portilexicon = pd.read_csv(\"data/portilexicon-ud.csv\")\n",
    "nomlexpt = pd.read_csv(\"data/UDer-1.1-pt-NomLexPT.tsv\",sep='\\t', header=None)\n",
    "etymwordnetpt = pd.read_csv(\"data/UDer-1.1-pt-EtymWordNetPT.tsv\",sep='\\t', header=None)"
   ]
  },
  {
   "cell_type": "code",
   "execution_count": 16,
   "id": "1aa6251a",
   "metadata": {},
   "outputs": [
    {
     "name": "stdout",
     "output_type": "stream",
     "text": [
      "<class 'pandas.core.frame.DataFrame'>\n",
      "RangeIndex: 1226024 entries, 0 to 1226023\n",
      "Data columns (total 16 columns):\n",
      " #   Column      Non-Null Count    Dtype  \n",
      "---  ------      --------------    -----  \n",
      " 0   words       1226024 non-null  object \n",
      " 1   infinitive  1226024 non-null  object \n",
      " 2   pos         1226024 non-null  object \n",
      " 3   prontype    295 non-null      object \n",
      " 4   mood        848287 non-null   object \n",
      " 5   foreign     135 non-null      object \n",
      " 6   numtype     179 non-null      object \n",
      " 7   number      1192172 non-null  object \n",
      " 8   tense       689892 non-null   object \n",
      " 9   poss        40 non-null       object \n",
      " 10  case        44 non-null       object \n",
      " 11  verbform    1078377 non-null  object \n",
      " 12  abbr        2384 non-null     object \n",
      " 13  person      934611 non-null   float64\n",
      " 14  definite    8 non-null        object \n",
      " 15  gender      237613 non-null   object \n",
      "dtypes: float64(1), object(15)\n",
      "memory usage: 149.7+ MB\n"
     ]
    }
   ],
   "source": [
    "portilexicon.info()"
   ]
  },
  {
   "cell_type": "code",
   "execution_count": 17,
   "id": "9ef0de25",
   "metadata": {},
   "outputs": [
    {
     "name": "stdout",
     "output_type": "stream",
     "text": [
      "<class 'pandas.core.frame.DataFrame'>\n",
      "RangeIndex: 7020 entries, 0 to 7019\n",
      "Data columns (total 10 columns):\n",
      " #   Column  Non-Null Count  Dtype  \n",
      "---  ------  --------------  -----  \n",
      " 0   0       7020 non-null   float64\n",
      " 1   1       7020 non-null   object \n",
      " 2   2       7020 non-null   object \n",
      " 3   3       7020 non-null   object \n",
      " 4   4       0 non-null      float64\n",
      " 5   5       0 non-null      float64\n",
      " 6   6       4201 non-null   float64\n",
      " 7   7       4201 non-null   object \n",
      " 8   8       0 non-null      float64\n",
      " 9   9       7020 non-null   object \n",
      "dtypes: float64(5), object(5)\n",
      "memory usage: 548.6+ KB\n"
     ]
    }
   ],
   "source": [
    "nomlexpt.info()"
   ]
  },
  {
   "cell_type": "code",
   "execution_count": 18,
   "id": "58cd9bfe",
   "metadata": {},
   "outputs": [
    {
     "name": "stdout",
     "output_type": "stream",
     "text": [
      "<class 'pandas.core.frame.DataFrame'>\n",
      "RangeIndex: 2797 entries, 0 to 2796\n",
      "Data columns (total 10 columns):\n",
      " #   Column  Non-Null Count  Dtype  \n",
      "---  ------  --------------  -----  \n",
      " 0   0       2797 non-null   float64\n",
      " 1   1       2797 non-null   object \n",
      " 2   2       2797 non-null   object \n",
      " 3   3       0 non-null      float64\n",
      " 4   4       0 non-null      float64\n",
      " 5   5       0 non-null      float64\n",
      " 6   6       1610 non-null   float64\n",
      " 7   7       1610 non-null   object \n",
      " 8   8       0 non-null      float64\n",
      " 9   9       2797 non-null   object \n",
      "dtypes: float64(6), object(4)\n",
      "memory usage: 218.6+ KB\n"
     ]
    }
   ],
   "source": [
    "etymwordnetpt.info()"
   ]
  },
  {
   "cell_type": "code",
   "execution_count": 15,
   "id": "b8b7c598",
   "metadata": {},
   "outputs": [],
   "source": [
    "portilexicon_words = set(portilexicon['words'])\n",
    "nomlexpt_words = set(nomlexpt[2])\n",
    "etymwordnetpt_words = set(etymwordnetpt[2])"
   ]
  },
  {
   "cell_type": "code",
   "execution_count": 33,
   "id": "1a7593d7",
   "metadata": {},
   "outputs": [
    {
     "name": "stdout",
     "output_type": "stream",
     "text": [
      "Contagem em portilexicon: 6306\n",
      "Contagem em nomlexpt: 6314\n"
     ]
    }
   ],
   "source": [
    "#palavras_df1 = set(df1['coluna_texto'])\n",
    "#palavras_df2 = set(df2['coluna_texto'])\n",
    "\n",
    "palavras_em_comum = portilexicon_words.intersection(nomlexpt_words)\n",
    "\n",
    "# Agora, você pode contar quantas vezes cada palavra em comum aparece em cada dataframe\n",
    "contagem_portilexicon = pd.DataFrame({'unique_words': list(portilexicon_words)})['unique_words'].apply(lambda x: x in palavras_em_comum).sum()\n",
    "contagem_nomlexpt = nomlexpt[2].apply(lambda x: x in palavras_em_comum).sum()\n",
    "\n",
    "print(f'Contagem em portilexicon: {contagem_portilexicon}')\n",
    "print(f'Contagem em nomlexpt: {contagem_nomlexpt}')"
   ]
  },
  {
   "cell_type": "code",
   "execution_count": 37,
   "id": "df463890",
   "metadata": {},
   "outputs": [
    {
     "name": "stdout",
     "output_type": "stream",
     "text": [
      "Contagem em portilexicon: 2531\n",
      "Contagem em etymwordnetpt: 2531\n"
     ]
    }
   ],
   "source": [
    "palavras_em_comum = portilexicon_words.intersection(etymwordnetpt_words)\n",
    "\n",
    "# Agora, você pode contar quantas vezes cada palavra em comum aparece em cada dataframe\n",
    "contagem_portilexicon = pd.DataFrame({'unique_words': list(portilexicon_words)})['unique_words'].apply(lambda x: x in palavras_em_comum).sum()\n",
    "contagem_etymwordnetpt = etymwordnetpt[2].apply(lambda x: x in palavras_em_comum).sum()\n",
    "\n",
    "print(f'Contagem em portilexicon: {contagem_portilexicon}')\n",
    "print(f'Contagem em etymwordnetpt: {contagem_etymwordnetpt}')"
   ]
  },
  {
   "cell_type": "code",
   "execution_count": 38,
   "id": "0f1da685",
   "metadata": {},
   "outputs": [
    {
     "name": "stdout",
     "output_type": "stream",
     "text": [
      "Contagem em nomlexpt: 326\n",
      "Contagem em etymwordnetpt: 326\n"
     ]
    }
   ],
   "source": [
    "palavras_em_comum = nomlexpt_words.intersection(etymwordnetpt_words)\n",
    "\n",
    "# Agora, você pode contar quantas vezes cada palavra em comum aparece em cada dataframe\n",
    "contagem_nomlexpt = nomlexpt[2].apply(lambda x: x in palavras_em_comum).sum()\n",
    "contagem_etymwordnetpt = etymwordnetpt[2].apply(lambda x: x in palavras_em_comum).sum()\n",
    "\n",
    "print(f'Contagem em nomlexpt: {contagem_nomlexpt}')\n",
    "print(f'Contagem em etymwordnetpt: {contagem_etymwordnetpt}')"
   ]
  },
  {
   "cell_type": "code",
   "execution_count": 40,
   "id": "0bfe8d4c",
   "metadata": {},
   "outputs": [
    {
     "name": "stderr",
     "output_type": "stream",
     "text": [
      "[nltk_data] Downloading package punkt to /Users/claesia/nltk_data...\n",
      "[nltk_data]   Package punkt is already up-to-date!\n"
     ]
    },
    {
     "data": {
      "text/plain": [
       "True"
      ]
     },
     "execution_count": 40,
     "metadata": {},
     "output_type": "execute_result"
    }
   ],
   "source": [
    "# contando quantas palavras compartilham a mesma raiz/radical\n",
    "import nltk\n",
    "from nltk.stem import SnowballStemmer\n",
    "\n",
    "# Certifique-se de baixar os dados necessários para o NLTK.\n",
    "nltk.download('punkt')"
   ]
  },
  {
   "cell_type": "code",
   "execution_count": 41,
   "id": "fd2b0f7e",
   "metadata": {},
   "outputs": [],
   "source": [
    "# Escolha um stemmer apropriado para o seu idioma, por exemplo, para o português, use o SnowballStemmer.\n",
    "stemmer = SnowballStemmer('portuguese')\n",
    "\n",
    "# Defina uma função para extrair a raiz das palavras em uma coluna.\n",
    "def extract_stem(text):\n",
    "    words = nltk.word_tokenize(text)\n",
    "    stems = [stemmer.stem(word) for word in words]\n",
    "    return ' '.join(stems)"
   ]
  },
  {
   "cell_type": "code",
   "execution_count": 42,
   "id": "b9dafa6b",
   "metadata": {},
   "outputs": [],
   "source": [
    "# Aplique a função às colunas relevantes de ambos os DataFrames.\n",
    "portilexicon['stemmed_text'] = portilexicon['words'].apply(extract_stem)\n",
    "nomlexpt['stemmed_text'] = nomlexpt[2].apply(extract_stem)\n",
    "etymwordnetpt['stemmed_text'] = etymwordnetpt[2].apply(extract_stem)\n",
    "\n",
    "# Converta as colunas de texto em conjuntos (sets) para facilitar a comparação.\n",
    "unique_stems_portilexicon = set(portilexicon['stemmed_text'])\n",
    "unique_stems_nomlexpt = set(nomlexpt['stemmed_text'])\n",
    "unique_stems_etymwordnetpt = set(etymwordnetpt['stemmed_text'])"
   ]
  },
  {
   "cell_type": "code",
   "execution_count": 43,
   "id": "a1f4c222",
   "metadata": {},
   "outputs": [
    {
     "name": "stdout",
     "output_type": "stream",
     "text": [
      "Número de raízes compartilhadas entre portilexicon vs nomlexpt: 4074\n"
     ]
    }
   ],
   "source": [
    "# Calcule a interseção entre os conjuntos de raízes.\n",
    "shared_stems = unique_stems_portilexicon.intersection(unique_stems_nomlexpt)\n",
    "\n",
    "# Conte quantas raízes compartilhadas existem.\n",
    "count_shared_stems = len(shared_stems)\n",
    "\n",
    "print(f'Número de raízes compartilhadas entre portilexicon vs nomlexpt: {count_shared_stems}')"
   ]
  },
  {
   "cell_type": "code",
   "execution_count": 44,
   "id": "6372e005",
   "metadata": {},
   "outputs": [
    {
     "name": "stdout",
     "output_type": "stream",
     "text": [
      "Número de raízes compartilhadas entre portilexicon vs etymwordnetpt: 1567\n"
     ]
    }
   ],
   "source": [
    "# Calcule a interseção entre os conjuntos de raízes.\n",
    "shared_stems = unique_stems_portilexicon.intersection(unique_stems_etymwordnetpt)\n",
    "\n",
    "# Conte quantas raízes compartilhadas existem.\n",
    "count_shared_stems = len(shared_stems)\n",
    "\n",
    "print(f'Número de raízes compartilhadas entre portilexicon vs etymwordnetpt: {count_shared_stems}')"
   ]
  },
  {
   "cell_type": "code",
   "execution_count": 45,
   "id": "630d26ca",
   "metadata": {},
   "outputs": [
    {
     "name": "stdout",
     "output_type": "stream",
     "text": [
      "Número de raízes compartilhadas entre nomlexpt vs etymwordnetpt: 366\n"
     ]
    }
   ],
   "source": [
    "# Calcule a interseção entre os conjuntos de raízes.\n",
    "shared_stems = unique_stems_nomlexpt.intersection(unique_stems_etymwordnetpt)\n",
    "\n",
    "# Conte quantas raízes compartilhadas existem.\n",
    "count_shared_stems = len(shared_stems)\n",
    "\n",
    "print(f'Número de raízes compartilhadas entre nomlexpt vs etymwordnetpt: {count_shared_stems}')"
   ]
  },
  {
   "cell_type": "code",
   "execution_count": null,
   "id": "b9caf6b5",
   "metadata": {},
   "outputs": [],
   "source": []
  },
  {
   "cell_type": "code",
   "execution_count": null,
   "id": "68372aef",
   "metadata": {},
   "outputs": [],
   "source": []
  }
 ],
 "metadata": {
  "kernelspec": {
   "display_name": "Python 3 (ipykernel)",
   "language": "python",
   "name": "python3"
  },
  "language_info": {
   "codemirror_mode": {
    "name": "ipython",
    "version": 3
   },
   "file_extension": ".py",
   "mimetype": "text/x-python",
   "name": "python",
   "nbconvert_exporter": "python",
   "pygments_lexer": "ipython3",
   "version": "3.8.12"
  }
 },
 "nbformat": 4,
 "nbformat_minor": 5
}
