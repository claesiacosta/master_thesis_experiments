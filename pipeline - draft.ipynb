{
 "cells": [
  {
   "cell_type": "code",
   "execution_count": 1,
   "metadata": {},
   "outputs": [],
   "source": [
    "import pandas as pd"
   ]
  },
  {
   "cell_type": "code",
   "execution_count": 2,
   "metadata": {},
   "outputs": [
    {
     "data": {
      "text/html": [
       "<div>\n",
       "<style scoped>\n",
       "    .dataframe tbody tr th:only-of-type {\n",
       "        vertical-align: middle;\n",
       "    }\n",
       "\n",
       "    .dataframe tbody tr th {\n",
       "        vertical-align: top;\n",
       "    }\n",
       "\n",
       "    .dataframe thead th {\n",
       "        text-align: right;\n",
       "    }\n",
       "</style>\n",
       "<table border=\"1\" class=\"dataframe\">\n",
       "  <thead>\n",
       "    <tr style=\"text-align: right;\">\n",
       "      <th></th>\n",
       "      <th>0</th>\n",
       "      <th>1</th>\n",
       "      <th>2</th>\n",
       "      <th>3</th>\n",
       "    </tr>\n",
       "  </thead>\n",
       "  <tbody>\n",
       "    <tr>\n",
       "      <th>0</th>\n",
       "      <td>a</td>\n",
       "      <td>a</td>\n",
       "      <td>ADP</td>\n",
       "      <td>_</td>\n",
       "    </tr>\n",
       "    <tr>\n",
       "      <th>1</th>\n",
       "      <td>a</td>\n",
       "      <td>a</td>\n",
       "      <td>NOUN</td>\n",
       "      <td>Gender=Masc|Number=Sing</td>\n",
       "    </tr>\n",
       "    <tr>\n",
       "      <th>2</th>\n",
       "      <td>a</td>\n",
       "      <td>o</td>\n",
       "      <td>DET</td>\n",
       "      <td>Definite=Def|Gender=Fem|Number=Sing|PronType=Art</td>\n",
       "    </tr>\n",
       "    <tr>\n",
       "      <th>3</th>\n",
       "      <td>a</td>\n",
       "      <td>o</td>\n",
       "      <td>PRON</td>\n",
       "      <td>Case=Acc|Gender=Fem|Number=Sing|Person=3|PronT...</td>\n",
       "    </tr>\n",
       "    <tr>\n",
       "      <th>4</th>\n",
       "      <td>a</td>\n",
       "      <td>o</td>\n",
       "      <td>PRON</td>\n",
       "      <td>Gender=Fem|Number=Sing|Person=3|PronType=Dem</td>\n",
       "    </tr>\n",
       "  </tbody>\n",
       "</table>\n",
       "</div>"
      ],
      "text/plain": [
       "   0  1     2                                                  3\n",
       "0  a  a   ADP                                                  _\n",
       "1  a  a  NOUN                            Gender=Masc|Number=Sing\n",
       "2  a  o   DET   Definite=Def|Gender=Fem|Number=Sing|PronType=Art\n",
       "3  a  o  PRON  Case=Acc|Gender=Fem|Number=Sing|Person=3|PronT...\n",
       "4  a  o  PRON       Gender=Fem|Number=Sing|Person=3|PronType=Dem"
      ]
     },
     "execution_count": 2,
     "metadata": {},
     "output_type": "execute_result"
    }
   ],
   "source": [
    "lexicon = pd.read_csv('portilexicon-ud.tsv',sep='\\t', header=None)\n",
    "lexicon.head()"
   ]
  },
  {
   "cell_type": "code",
   "execution_count": 3,
   "metadata": {},
   "outputs": [
    {
     "name": "stdout",
     "output_type": "stream",
     "text": [
      "['NumType', 'Poss', ' Number', 'Number', 'Definite', 'VerbForm', 'Case', 'Abbr', 'Foreign', 'PronType', 'Gender', 'Tense', 'Mood', 'Person']\n",
      "['NumType', 'Poss', 'Number', 'Number', 'Definite', 'VerbForm', 'Case', 'Abbr', 'Foreign', 'PronType', 'Gender', 'Tense', 'Mood', 'Person']\n"
     ]
    }
   ],
   "source": [
    "cols = []\n",
    "for index, row in lexicon[3].str.split('|', expand=True).iterrows():\n",
    "    cols.extend(list(filter(None, row.str.split('=', expand=True)[0].unique())))\n",
    "    cols = list(set(cols))\n",
    "cols.remove(\"_\")\n",
    "print(cols)\n",
    "cols_name = [i.lstrip() for i in cols]\n",
    "print(cols_name)"
   ]
  },
  {
   "cell_type": "code",
   "execution_count": 4,
   "metadata": {},
   "outputs": [
    {
     "data": {
      "text/html": [
       "<div>\n",
       "<style scoped>\n",
       "    .dataframe tbody tr th:only-of-type {\n",
       "        vertical-align: middle;\n",
       "    }\n",
       "\n",
       "    .dataframe tbody tr th {\n",
       "        vertical-align: top;\n",
       "    }\n",
       "\n",
       "    .dataframe thead th {\n",
       "        text-align: right;\n",
       "    }\n",
       "</style>\n",
       "<table border=\"1\" class=\"dataframe\">\n",
       "  <thead>\n",
       "    <tr style=\"text-align: right;\">\n",
       "      <th></th>\n",
       "      <th>words</th>\n",
       "      <th>infinitive</th>\n",
       "      <th>pos</th>\n",
       "      <th>numtype</th>\n",
       "      <th>poss</th>\n",
       "      <th>number</th>\n",
       "      <th>definite</th>\n",
       "      <th>verbform</th>\n",
       "      <th>case</th>\n",
       "      <th>abbr</th>\n",
       "      <th>foreign</th>\n",
       "      <th>prontype</th>\n",
       "      <th>gender</th>\n",
       "      <th>tense</th>\n",
       "      <th>mood</th>\n",
       "      <th>person</th>\n",
       "    </tr>\n",
       "  </thead>\n",
       "  <tbody>\n",
       "    <tr>\n",
       "      <th>0</th>\n",
       "      <td>a</td>\n",
       "      <td>a</td>\n",
       "      <td>ADP</td>\n",
       "      <td>None</td>\n",
       "      <td>None</td>\n",
       "      <td>None</td>\n",
       "      <td>None</td>\n",
       "      <td>None</td>\n",
       "      <td>None</td>\n",
       "      <td>None</td>\n",
       "      <td>None</td>\n",
       "      <td>None</td>\n",
       "      <td>None</td>\n",
       "      <td>None</td>\n",
       "      <td>None</td>\n",
       "      <td>None</td>\n",
       "    </tr>\n",
       "    <tr>\n",
       "      <th>1</th>\n",
       "      <td>a</td>\n",
       "      <td>a</td>\n",
       "      <td>NOUN</td>\n",
       "      <td>None</td>\n",
       "      <td>None</td>\n",
       "      <td>Sing</td>\n",
       "      <td>None</td>\n",
       "      <td>None</td>\n",
       "      <td>None</td>\n",
       "      <td>None</td>\n",
       "      <td>None</td>\n",
       "      <td>None</td>\n",
       "      <td>Masc</td>\n",
       "      <td>None</td>\n",
       "      <td>None</td>\n",
       "      <td>None</td>\n",
       "    </tr>\n",
       "    <tr>\n",
       "      <th>2</th>\n",
       "      <td>a</td>\n",
       "      <td>o</td>\n",
       "      <td>DET</td>\n",
       "      <td>None</td>\n",
       "      <td>None</td>\n",
       "      <td>Sing</td>\n",
       "      <td>Def</td>\n",
       "      <td>None</td>\n",
       "      <td>None</td>\n",
       "      <td>None</td>\n",
       "      <td>None</td>\n",
       "      <td>Art</td>\n",
       "      <td>Fem</td>\n",
       "      <td>None</td>\n",
       "      <td>None</td>\n",
       "      <td>None</td>\n",
       "    </tr>\n",
       "    <tr>\n",
       "      <th>3</th>\n",
       "      <td>a</td>\n",
       "      <td>o</td>\n",
       "      <td>PRON</td>\n",
       "      <td>None</td>\n",
       "      <td>None</td>\n",
       "      <td>Sing</td>\n",
       "      <td>None</td>\n",
       "      <td>None</td>\n",
       "      <td>Acc</td>\n",
       "      <td>None</td>\n",
       "      <td>None</td>\n",
       "      <td>Prs</td>\n",
       "      <td>Fem</td>\n",
       "      <td>None</td>\n",
       "      <td>None</td>\n",
       "      <td>3</td>\n",
       "    </tr>\n",
       "    <tr>\n",
       "      <th>4</th>\n",
       "      <td>a</td>\n",
       "      <td>o</td>\n",
       "      <td>PRON</td>\n",
       "      <td>None</td>\n",
       "      <td>None</td>\n",
       "      <td>Sing</td>\n",
       "      <td>None</td>\n",
       "      <td>None</td>\n",
       "      <td>None</td>\n",
       "      <td>None</td>\n",
       "      <td>None</td>\n",
       "      <td>Dem</td>\n",
       "      <td>Fem</td>\n",
       "      <td>None</td>\n",
       "      <td>None</td>\n",
       "      <td>3</td>\n",
       "    </tr>\n",
       "  </tbody>\n",
       "</table>\n",
       "</div>"
      ],
      "text/plain": [
       "  words infinitive   pos numtype  poss number definite verbform  case  abbr  \\\n",
       "0     a          a   ADP    None  None   None     None     None  None  None   \n",
       "1     a          a  NOUN    None  None   Sing     None     None  None  None   \n",
       "2     a          o   DET    None  None   Sing      Def     None  None  None   \n",
       "3     a          o  PRON    None  None   Sing     None     None   Acc  None   \n",
       "4     a          o  PRON    None  None   Sing     None     None  None  None   \n",
       "\n",
       "  foreign prontype gender tense  mood person  \n",
       "0    None     None   None  None  None   None  \n",
       "1    None     None   Masc  None  None   None  \n",
       "2    None      Art    Fem  None  None   None  \n",
       "3    None      Prs    Fem  None  None      3  \n",
       "4    None      Dem    Fem  None  None      3  "
      ]
     },
     "execution_count": 4,
     "metadata": {},
     "output_type": "execute_result"
    }
   ],
   "source": [
    "# constrói dataframe\n",
    "df_lexicon = pd.DataFrame(columns=['words', 'infinitive'])\n",
    "df_lexicon['words'] = lexicon[0]\n",
    "df_lexicon['infinitive'] = lexicon[1]\n",
    "df_lexicon['pos'] = lexicon[2]\n",
    "for col_name in cols_name:\n",
    "    df_lexicon[col_name.lower()] = lexicon[3].str.split(col_name + '=', expand=True)[1].str.split('|', expand=True)[0]\n",
    "\n",
    "df_lexicon.isna().sum()\n",
    "df_lexicon.head()\n",
    "# preenche vazios\n",
    "#df_lexicon.fillna('NA', inplace=True)\n",
    "#df_lexicon['gender'].fillna('NA', inplace=True)\n",
    "#df_lexicon['number'].fillna('NA', inplace=True)"
   ]
  },
  {
   "cell_type": "code",
   "execution_count": 5,
   "metadata": {},
   "outputs": [
    {
     "data": {
      "text/html": [
       "<div>\n",
       "<style scoped>\n",
       "    .dataframe tbody tr th:only-of-type {\n",
       "        vertical-align: middle;\n",
       "    }\n",
       "\n",
       "    .dataframe tbody tr th {\n",
       "        vertical-align: top;\n",
       "    }\n",
       "\n",
       "    .dataframe thead th {\n",
       "        text-align: right;\n",
       "    }\n",
       "</style>\n",
       "<table border=\"1\" class=\"dataframe\">\n",
       "  <thead>\n",
       "    <tr style=\"text-align: right;\">\n",
       "      <th></th>\n",
       "      <th>0</th>\n",
       "      <th>1</th>\n",
       "      <th>2</th>\n",
       "      <th>3</th>\n",
       "      <th>4</th>\n",
       "      <th>5</th>\n",
       "      <th>6</th>\n",
       "      <th>7</th>\n",
       "      <th>8</th>\n",
       "      <th>9</th>\n",
       "    </tr>\n",
       "  </thead>\n",
       "  <tbody>\n",
       "    <tr>\n",
       "      <th>0</th>\n",
       "      <td>0.0</td>\n",
       "      <td>abafar#VERB</td>\n",
       "      <td>abafar</td>\n",
       "      <td>VERB</td>\n",
       "      <td>NaN</td>\n",
       "      <td>NaN</td>\n",
       "      <td>NaN</td>\n",
       "      <td>NaN</td>\n",
       "      <td>NaN</td>\n",
       "      <td>{}</td>\n",
       "    </tr>\n",
       "    <tr>\n",
       "      <th>1</th>\n",
       "      <td>0.1</td>\n",
       "      <td>abafador#NOUN</td>\n",
       "      <td>abafador</td>\n",
       "      <td>NOUN</td>\n",
       "      <td>NaN</td>\n",
       "      <td>NaN</td>\n",
       "      <td>0.0</td>\n",
       "      <td>Type=Derivation</td>\n",
       "      <td>NaN</td>\n",
       "      <td>{}</td>\n",
       "    </tr>\n",
       "    <tr>\n",
       "      <th>2</th>\n",
       "      <td>0.2</td>\n",
       "      <td>abafamento#NOUN</td>\n",
       "      <td>abafamento</td>\n",
       "      <td>NOUN</td>\n",
       "      <td>NaN</td>\n",
       "      <td>NaN</td>\n",
       "      <td>0.0</td>\n",
       "      <td>Type=Derivation</td>\n",
       "      <td>NaN</td>\n",
       "      <td>{}</td>\n",
       "    </tr>\n",
       "    <tr>\n",
       "      <th>3</th>\n",
       "      <td>1.0</td>\n",
       "      <td>abaixar#VERB</td>\n",
       "      <td>abaixar</td>\n",
       "      <td>VERB</td>\n",
       "      <td>NaN</td>\n",
       "      <td>NaN</td>\n",
       "      <td>NaN</td>\n",
       "      <td>NaN</td>\n",
       "      <td>NaN</td>\n",
       "      <td>{}</td>\n",
       "    </tr>\n",
       "    <tr>\n",
       "      <th>4</th>\n",
       "      <td>1.1</td>\n",
       "      <td>abaixamento#NOUN</td>\n",
       "      <td>abaixamento</td>\n",
       "      <td>NOUN</td>\n",
       "      <td>NaN</td>\n",
       "      <td>NaN</td>\n",
       "      <td>1.0</td>\n",
       "      <td>Type=Derivation</td>\n",
       "      <td>NaN</td>\n",
       "      <td>{}</td>\n",
       "    </tr>\n",
       "  </tbody>\n",
       "</table>\n",
       "</div>"
      ],
      "text/plain": [
       "     0                 1            2     3   4   5    6                7   8  \\\n",
       "0  0.0       abafar#VERB       abafar  VERB NaN NaN  NaN              NaN NaN   \n",
       "1  0.1     abafador#NOUN     abafador  NOUN NaN NaN  0.0  Type=Derivation NaN   \n",
       "2  0.2   abafamento#NOUN   abafamento  NOUN NaN NaN  0.0  Type=Derivation NaN   \n",
       "3  1.0      abaixar#VERB      abaixar  VERB NaN NaN  NaN              NaN NaN   \n",
       "4  1.1  abaixamento#NOUN  abaixamento  NOUN NaN NaN  1.0  Type=Derivation NaN   \n",
       "\n",
       "    9  \n",
       "0  {}  \n",
       "1  {}  \n",
       "2  {}  \n",
       "3  {}  \n",
       "4  {}  "
      ]
     },
     "execution_count": 5,
     "metadata": {},
     "output_type": "execute_result"
    }
   ],
   "source": [
    "nomlexpt = pd.read_csv(\"UDer-1.1-pt-NomLexPT.tsv\",sep='\\t', header=None)\n",
    "nomlexpt.head()"
   ]
  },
  {
   "cell_type": "code",
   "execution_count": 6,
   "metadata": {},
   "outputs": [],
   "source": [
    "verbs = nomlexpt[nomlexpt[3] == 'VERB'][2].to_list()\n",
    "verbs_suffix = ['ar', 'er', 'ir']\n",
    "verbs_radical = []\n",
    "for verb in verbs:\n",
    "    for suffix in verbs_suffix:\n",
    "        if verb.lower().endswith(suffix.lower()):\n",
    "            verbs_radical.append(verb[0:-len(suffix)])\n",
    "            break"
   ]
  },
  {
   "cell_type": "code",
   "execution_count": 7,
   "metadata": {},
   "outputs": [],
   "source": [
    "import re\n",
    "def pattern_searcher(search_str:str, search_list:str, verbs:list):\n",
    "    search_obj = re.search(search_list, search_str)\n",
    "    if search_obj:\n",
    "        #returns = search_str[search_obj.start(): search_obj.end()]\n",
    "        #ret = [verb for verb in verbs if returns in verb][0]\n",
    "        #return_str = returns + '|' + ret \n",
    "        return_str = search_str[search_obj.start(): search_obj.end()]\n",
    "    else:\n",
    "        return_str = 'NA'\n",
    "    return return_str"
   ]
  },
  {
   "cell_type": "code",
   "execution_count": 23,
   "metadata": {},
   "outputs": [],
   "source": [
    "#pattern_radical = '|'.join(verbs_radical)\n",
    "pattern_radical = '({})'.format('|'.join(verbs_radical))\n",
    "df_lexicon['match_root'] = df_lexicon['words'].str.extract(pattern_radical, expand=False).fillna('TESTE')\n",
    "#df_lexicon['match_root'] = df_lexicon['words'].apply(lambda x: pattern_searcher(search_str=x, search_list=pattern_radical))"
   ]
  },
  {
   "cell_type": "code",
   "execution_count": 24,
   "metadata": {},
   "outputs": [],
   "source": [
    "pattern_verbs = '({})'.format('|'.join(verbs))\n",
    "df_lexicon['match_verb'] = df_lexicon['match_root'].str.extract(pattern_verbs, expand=False).fillna('TESTE')\n",
    "#df_lexicon[['match_root', 'match_verb']] = df_lexicon['match_root'].str.split('|', 1, expand=True)"
   ]
  },
  {
   "cell_type": "code",
   "execution_count": null,
   "metadata": {},
   "outputs": [],
   "source": [
    "df_lexicon"
   ]
  },
  {
   "cell_type": "code",
   "execution_count": null,
   "metadata": {},
   "outputs": [],
   "source": [
    "verbs_match = []\n",
    "for root in df_lexicon['match_root']:\n",
    "    for verb in verbs:\n",
    "        if root in verb:\n",
    "            verbs_match.append(verb)\n",
    "        else:\n",
    "            verbs_match.append('')"
   ]
  },
  {
   "cell_type": "code",
   "execution_count": null,
   "metadata": {},
   "outputs": [],
   "source": [
    "df_lexicon[df_lexicon.match_root.str.startswith('abandon')]"
   ]
  },
  {
   "cell_type": "code",
   "execution_count": null,
   "metadata": {},
   "outputs": [],
   "source": [
    "df_filtered = df_lexicon[(df_lexicon.pos != 'VERB') & (df_lexicon.match_root != '') & (df_lexicon.number != 'Plur') & (df_lexicon.verbform != 'Part')]"
   ]
  },
  {
   "cell_type": "code",
   "execution_count": null,
   "metadata": {},
   "outputs": [],
   "source": [
    "df_filtered"
   ]
  },
  {
   "cell_type": "code",
   "execution_count": null,
   "metadata": {
    "scrolled": true
   },
   "outputs": [],
   "source": [
    "nomlexpt.head()"
   ]
  },
  {
   "cell_type": "code",
   "execution_count": null,
   "metadata": {},
   "outputs": [],
   "source": [
    "nomlexpt[nomlexpt[3] == 'VERB']"
   ]
  },
  {
   "cell_type": "code",
   "execution_count": null,
   "metadata": {},
   "outputs": [],
   "source": [
    "rels = set()\n",
    "for index, row in nomlexpt[nomlexpt[3] == 'VERB'].iterrows():\n",
    "    for index, row2 in df_filtered[df_filtered.match_verb == row[2]].iterrows():\n",
    "        parent = row[1]\n",
    "        child = row2['words']\n",
    "        pos = row2['pos']\n",
    "        \n",
    "        if (parent, child, pos) not in rels:\n",
    "            rels.add((parent, child, pos))\n",
    "            print(parent, child, pos, sep='\\t')\n",
    "        "
   ]
  },
  {
   "cell_type": "code",
   "execution_count": null,
   "metadata": {},
   "outputs": [],
   "source": [
    "nomlexpt.head(20)"
   ]
  },
  {
   "cell_type": "code",
   "execution_count": null,
   "metadata": {
    "scrolled": true
   },
   "outputs": [],
   "source": [
    "df_filtered[df_filtered.match_verb == 'abafar']"
   ]
  },
  {
   "cell_type": "code",
   "execution_count": null,
   "metadata": {},
   "outputs": [],
   "source": [
    "nomlexpt[nomlexpt[6] == 0.0]"
   ]
  },
  {
   "cell_type": "code",
   "execution_count": null,
   "metadata": {},
   "outputs": [],
   "source": [
    "nomlexpt[nomlexpt[0] == 1931.0][0].values + 0.1*len(nomlexpt[nomlexpt[6] == 1931.0][0])"
   ]
  },
  {
   "cell_type": "code",
   "execution_count": null,
   "metadata": {},
   "outputs": [],
   "source": [
    "nomlexpt[nomlexpt[6] == 1931.0]"
   ]
  },
  {
   "cell_type": "code",
   "execution_count": 10,
   "metadata": {},
   "outputs": [
    {
     "data": {
      "text/html": [
       "<div>\n",
       "<style scoped>\n",
       "    .dataframe tbody tr th:only-of-type {\n",
       "        vertical-align: middle;\n",
       "    }\n",
       "\n",
       "    .dataframe tbody tr th {\n",
       "        vertical-align: top;\n",
       "    }\n",
       "\n",
       "    .dataframe thead th {\n",
       "        text-align: right;\n",
       "    }\n",
       "</style>\n",
       "<table border=\"1\" class=\"dataframe\">\n",
       "  <thead>\n",
       "    <tr style=\"text-align: right;\">\n",
       "      <th></th>\n",
       "      <th>words</th>\n",
       "      <th>infinitive</th>\n",
       "      <th>pos</th>\n",
       "      <th>numtype</th>\n",
       "      <th>poss</th>\n",
       "      <th>number</th>\n",
       "      <th>definite</th>\n",
       "      <th>verbform</th>\n",
       "      <th>case</th>\n",
       "      <th>abbr</th>\n",
       "      <th>foreign</th>\n",
       "      <th>prontype</th>\n",
       "      <th>gender</th>\n",
       "      <th>tense</th>\n",
       "      <th>mood</th>\n",
       "      <th>person</th>\n",
       "      <th>match_root</th>\n",
       "      <th>match_verb</th>\n",
       "    </tr>\n",
       "  </thead>\n",
       "  <tbody>\n",
       "  </tbody>\n",
       "</table>\n",
       "</div>"
      ],
      "text/plain": [
       "Empty DataFrame\n",
       "Columns: [words, infinitive, pos, numtype, poss, number, definite, verbform, case, abbr, foreign, prontype, gender, tense, mood, person, match_root, match_verb]\n",
       "Index: []"
      ]
     },
     "execution_count": 10,
     "metadata": {},
     "output_type": "execute_result"
    }
   ],
   "source": [
    "df_lexicon[df_lexicon.match_verb == 'abandonar']"
   ]
  },
  {
   "cell_type": "code",
   "execution_count": 15,
   "metadata": {},
   "outputs": [
    {
     "name": "stdout",
     "output_type": "stream",
     "text": [
      "<class 'pandas.core.frame.DataFrame'>\n",
      "RangeIndex: 1226024 entries, 0 to 1226023\n",
      "Data columns (total 18 columns):\n",
      " #   Column      Non-Null Count    Dtype \n",
      "---  ------      --------------    ----- \n",
      " 0   words       1226024 non-null  object\n",
      " 1   infinitive  1226024 non-null  object\n",
      " 2   pos         1226024 non-null  object\n",
      " 3   numtype     179 non-null      object\n",
      " 4   poss        40 non-null       object\n",
      " 5   number      1192172 non-null  object\n",
      " 6   definite    8 non-null        object\n",
      " 7   verbform    1078377 non-null  object\n",
      " 8   case        44 non-null       object\n",
      " 9   abbr        2384 non-null     object\n",
      " 10  foreign     135 non-null      object\n",
      " 11  prontype    295 non-null      object\n",
      " 12  gender      237613 non-null   object\n",
      " 13  tense       689892 non-null   object\n",
      " 14  mood        848287 non-null   object\n",
      " 15  person      934611 non-null   object\n",
      " 16  match_root  1226024 non-null  object\n",
      " 17  match_verb  1226024 non-null  object\n",
      "dtypes: object(18)\n",
      "memory usage: 168.4+ MB\n"
     ]
    }
   ],
   "source": [
    "df_lexicon['match_root'].info()"
   ]
  },
  {
   "cell_type": "code",
   "execution_count": 26,
   "metadata": {},
   "outputs": [
    {
     "data": {
      "text/plain": [
       "TESTE    1222912\n",
       "ir          1615\n",
       "ver          874\n",
       "impor        196\n",
       "ler           95\n",
       "deter         87\n",
       "expor         87\n",
       "feder         81\n",
       "andar         77\n",
       "Name: match_verb, dtype: int64"
      ]
     },
     "execution_count": 26,
     "metadata": {},
     "output_type": "execute_result"
    }
   ],
   "source": [
    "df_lexicon['match_verb'].value_counts()"
   ]
  },
  {
   "cell_type": "code",
   "execution_count": 25,
   "metadata": {},
   "outputs": [
    {
     "data": {
      "text/plain": [
       "{'TESTE': 1,\n",
       " 'ir': 1,\n",
       " 'ver': 1,\n",
       " 'impor': 1,\n",
       " 'ler': 1,\n",
       " 'deter': 1,\n",
       " 'expor': 1,\n",
       " 'feder': 1,\n",
       " 'andar': 1}"
      ]
     },
     "execution_count": 25,
     "metadata": {},
     "output_type": "execute_result"
    }
   ],
   "source": [
    "from collections import Counter\n",
    "duplicates = [item for item, count in df_lexicon['match_verb'].value_counts().iteritems()]\n",
    "\n",
    "dict(Counter(duplicates))"
   ]
  },
  {
   "cell_type": "code",
   "execution_count": 20,
   "metadata": {},
   "outputs": [
    {
     "data": {
      "text/plain": [
       "'(abafar|abaixar|abalar|abalroar|abandonar|abastecer|abater|abdicar|abduzir|abjurar|abnegar|abolir|abominar|abonar|abordar|aborrecer|abortar|abotoar|abranger|abraçar|abreviar|abrigar|abrir|absolutizar|absolver|absorver|abster|abstrair|abundar|abusar|acabar|acalentar|acalmar|acampar|acarear|acarretar|acasalar|acatar|aceder|aceitar|acelerar|acenar|acender|acentuar|acertar|acessar|achar|acidentar|acidificar|acionar|aclamar|aclimatar|acolher|acomodar|acompanhar|aconselhar|acontecer|acoplar|acordar|acossar|acostar|acrescentar|acrescer|activar|actualizar|actuar|aculturar|acumular|acusar|adaptar|adequar|aderir|adestrar|adiar|adicionar|adjudicar|administrar|admirar|admitir|admoestar|adorar|adornar|adotar|adquirir|adubar|adular|adulterar|advertir|advir|advogar|aerar|afastar|aferir|afetar|afiliar|afinar|afirmar|afligir|aflorar|afluir|afogar|aforrar|africanizar|afrontar|agachar|agasalhar|agenciar|agilizar|agir|agitar|aglomerar|aglutinar|agoniar|agradecer|agravar|agredir|agregar|agremiar|agrupar|agudizar|ajudar|ajustar|alardear|alargar|alarmar|alcançar|alegar|alegrar|alfabetizar|alhear|aliar|aliciar|alienar|alimentar|alinhar|alinhavar|alistar|aliviar|alocar|alojar|alongar|alterar|alternar|alucinar|aludir|alugar|alvoroçar|alçar|amaciar|amadurecer|amaldiçoar|amalgamar|amamentar|amar|amargar|amargurar|amassar|ambicionar|ambientar|ameaçar|amedrontar|americanizar|amolar|amortecer|amortizar|amostrar|amotinar|amparar|ampliar|amplificar|amputar|analisar|analizar|andar|anexar|angariar|angustiar|animar|aniquilar|anodizar|anotar|anteceder|antecipar|antever|anticoagular|antiglobalizar|antologizar|anuir|anular|anunciar|apagar|apalpar|apanhar|aparar|aparecer|aparelhar|apaziguar|apegar|apelar|aperfeiçoar|apertar|apitar|aplainar|aplaudir|aplicar|apodrecer|apoiar|apontar|aposentar|apostar|apreciar|apreender|aprender|apresentar|aprimorar|aprisionar|apropriar|aprovar|aproveitar|aproximar|apurar|aquecer|aquiescer|arabizar|arbitrar|arborizar|arcabuzar|arder|arejar|argumentar|armamentar|armar|armazenar|arpoar|arrancar|arranhar|arranjar|arrastar|arrebatar|arrecadar|arredondar|arrefecer|arreliar|arrematar|arremessar|arremeter|arrendar|arrepender|arrepiar|arrochar|arrojar|arrombar|arroubar|arrufar|arrulhar|arrumar|articular|artificializar|ascender|asfixiar|aspergir|aspirar|assaltar|assar|assassinar|assegurar|assemelhar|assentar|assentir|assertir|assessorar|asseverar|assimilar|assinar|assistir|assobiar|associar|assombrar|assoprar|assumir|atacar|atar|atender|atentar|atenuar|aterrissar|atilar|atirar|ativar|atolar|atomizar|atrair|atrapalhar|atrasar|atravessar|atrever|atribuir|atritar|atrofiar|atropelar|atualizar|atuar|augurar|aumentar|auscultar|ausentar|autocorrelacionar|autodeterminar|automatizar|autonomizar|autorizar|autuar|auxiliar|avaliar|avançar|avariar|aventurar|averiguar|aviltar|avisar|açambarcar|babar|bailar|baixar|bajular|balançar|balcanizar|bambolear|banalizar|bancar|banir|baptizar|barbear|barrar|barricar|basear|batalhar|bater|batizar|beatificar|beber|beijar|beirar|beligerar|beliscar|beneficiar|benzer|berrar|bifurcar|bipolarizar|bisbilhotar|bloquear|bochechar|bofetar|boiar|boicotar|bombardear|bombear|bonificar|borboletear|bordar|borrar|boxear|bradar|bramir|branquear|brigar|brilhar|brincar|brindar|brocar|bronzear|brotar|brutalizar|bulhar|burocratizar|buscar|cabecear|cacarejar|cadastrar|caiar|cair|calar|calcificar|calcular|calendarizar|calibrar|caluniar|calçar|cambiar|caminhar|campear|canalizar|cancelar|cancerizar|candidatar|canibalizar|canonizar|cansar|cantar|cantonizar|capacitar|capitalizar|capitular|captar|capturar|caracterizar|carburar|cardar|caricaturar|carnavalizar|carregar|cartelizar|casar|cassar|castigar|castrar|catalisar|catalizar|catalogar|catar|categorizar|catequizar|cativar|causar|cauterizar|cavalgar|cavar|caçar|caçoar|ceder|celebrar|censurar|centralizar|centrar|centrifugar|cercar|cercear|certificar|cerzir|cessar|cesurar|cevar|chacinar|chamar|chancelar|chanfrar|chantagear|chapar|chefiar|chegar|cheirar|chiar|chocar|chorar|chover|chulear|chumbar|chupar|chutar|chuviscar|cicatrizar|cindir|cinzelar|circular|circuncidar|circunscrever|cismar|citar|civilizar|clamar|clarificar|classificar|climatizar|clivar|coabitar|coagir|coagir/coar|coagular|coalhar|cobrar|cobrir|cochichar|cochilar|codificar|coexistir|cogenerar|cogitar|coincidir|colaborar|colapsar|colar|colecionar|colectivizar|coletar|coletivizar|colher|colidir|coligar|colocar|colonizar|colorir|colorizar|coludir|comandar|combater|combinar|combustir|comemorar|comendar|comentar|comer|comercializar|comerciar|começar|comissionar|comover|compactar|comparar|comparecer|compartir|compatibilizar|compensar|competir|compilar|complementar|completar|complexar|complicar|compor|comportar|comprar|compreender|comprimir|comprometer|comprovar|computar|comungar|comunhar|comunicar|comunitarizar|comutar|conceber|conceder|conceitualizar|conceituar|concentrar|conceptualizar|concertar|conchavar|conciliar|concluir|concordar|concorrer|concretizar|concursar|concutir|condecorar|condenar|condensar|condescender|condicionar|conduzir|conectar|confabular|confeccionar|confederar|conferir|confessar|confiar|confidenciar|configurar|confinar|confirmar|conflagrar|conflitar|confluir|conformar|confortar|confraternizar|confrontar|confundir|congelar|congestionar|congratular|congregar|conhecer|conivir|conjecturar|conjugar|conotar|conquistar|consagrar|consciencializar|conscientizar|conseguir|consensualizar|consentir|consertar|conservar|considerar|consignar|consoar|consolar|consolidar|conspirar|constatar|consternar|constipar|constitucionalizar|constituir|constringir|construir|consultar|consumir|contabilizar|contactar|contaminar|contar|contatar|contemplar|contemporizar|contender|contentar|conter|contestar|contextualizar|continuar|contornar|contrabandear|contradizer|contrair|contrapor|contrastar|contratar|contratualizar|contribuir|controlar|contundir|convalescer|convencer|convencionar|convergir|conversar|converter|convidar|conviver|convocar|convulsionar|cooperar|cooptar|coordenar|copiar|coproduzir|copular|coroar|corporativizar|corporizar|correlacionar|correr|corresponder|corresponsabilizar|corrigir|corroer|corromper|cortar|cortejar|coser|costurar|cotar|cotejar|cotizar|cozer|cozinhar|credibilizar|creditar|crer|crescer|criar|criminalizar|cristalizar|cristianizar|criticar|cronometrar|cruzar|cuidar|culminar|culpabilizar|culpar|cultivar|cumprimentar|cumprir|curar|cursar|curtir|curvar|cuspir|custar|custear|customizar|cutucar|danar|danificar|dançar|dar|datar|deambular|debandar|debater|decair|decalcar|decantar|decapitar|decentralizar|decepcionar|decidir|declamar|declarar|declinar|decodificar|decolar|decompor|decorar|decorrer|decrescer|decretar|dedicar|dedilhar|deduzir|defasar|defecar|defender|deferir|definhar|definir|deflacionar|deflagrar|defluir|deformar|defumar|degelar|degenerar|deglutir|degolar|degradar|degustar|deixar|dejectar|delapidar|delegar|deleitar|deletar|deliberar|deliciar|delimitar|delinear|delongar|demandar|demarcar|demitir|democratizar|demolir|demonizar|demonstrar|demorar|denominar|denunciar|depender|depletir|depor|deportar|depositar|depreciar|depredar|depreender|deprimir|depurar|deputar|deridir|derivar|derramar|derrapar|derreter|derrocar|derrogar|derrotar|derrubar|desabafar|desabar|desabonar|desacelerar|desactualizar|desafiar|desagregar|desajustar|desalavancar|desalinhar|desandar|desanimar|desaparecer|desapegar|desapontar|desapropriar|desaprovar|desarmar|desarticular|desativar|desautorizar|desbancar|desbarrancar|desbloquear|desbravar|desbridar|desburocratizar|descapitalizar|descaracterizar|descarregar|descarrilhar|descartar|descascar|descender|descentralizar|descer|desclassificar|descobrir|descodificar|descolonizar|descompensar|desconcentrar|desconfiar|desconfortar|desconsiderar|desconstitucionalizar|desconstruir|descontaminar|descontentar|descontextualizar|descontinuar|descontrair|desconverter|descredibilizar|descrever|descriminalizar|desculpabilizar|desculpar|desdenhar|desdramatizar|desejar|desembaciar|desembarcar|desembargar|desembocar|desembolsar|desempatar|desempenhar|desempregar|desencadear|desencaixar|desencalhar|desencantar|desencontrar|desenganar|desenhar|desenlaçar|desenrolar|desentupir|desenvolver|desequilibrar|desertar|desertificar|desestabilizar|desestatizar|desestruturar|desfalcar|desfalecer|desfigurar|desfilar|desforrar|desfragmentar|desfrutar|desgastar|desgostar|desgovernamentalizar|desgovernar|desgraçar|desideologizar|desidratar|designar|desiludir|desimpedir|desincompatibilizar|desindexar|desindustrializar|desinfestar|desinfetar|desinformar|desinstalar|desintegrar|desintoxicar|desinvestir|desistir|desjejuar|desleixar|deslizar|deslocalizar|deslocar|desmaiar|desmamar|desmanchar|desmandar|desmantelar|desmatar|desmaterializar|desmembrar|desmentir|desmilitarizar|desminar|desmineralizar|desmobilizar|desmontar|desmoralizar|desmoronar|desmotivar|desnacionalizar|desnaturar|desnuclearizar|desnutrir|desobedecer|desocupar|desolar|desonrar|desorganizar|desorientar|despachar|despartidarizar|despedir|despeitar|despejar|despenalizar|despender|desperdiçar|despersonalizar|despertar|despistar|despojar|despolitizar|despoluir|desprender|despressurizar|desprezar|despromover|desqualificação|desquitar|desratizar|desregulamentar|desrespeitar|desresponsabilizar|dessacralizar|dessalinizar|dessecar|destabilizar|destacar|destemperar|desterritorializar|destilar|destinar|destituir|destroçar|destruir|desumanizar|desumidificar|desunir|desvalorizar|desviar|desvincular|desvitalizar|detalhar|detectar|deter|deteriorar|determinar|detonar|deturpar|devanear|devassar|devastar|dever|devolver|devotar|diabolizar|dialisar|difamar|diferenciar|difrair|difundir|digitalizar|digitar|dignificar|dilapidar|dilatar|diluir|diminuir|dinamizar|dirigir|disatisfazer|discernir|disciplinar|discordar|discrepar|discriminalizar|discriminar|discutir|disfarçar|disjungir|disparar|disparatar|dispensar|dispersar|disponibilizar|dispor|disputar|dissaborear|dissecar|disseminar|dissentir|dissertar|dissimular|dissipar|dissociar|dissolver|dissuadir|distar|distender|distinguir|distorcer|distrair|distribuir|disturbar|ditar|divergir|diversificar|divertir|dividir|divinizar|divorciar|divulgar|doar|dobrar|documentar|doer|doirar|dolarizar|domar|domesticar|dominar|dormir|dotar|dourar|doutorar|doutrinar|dramatizar|drenar|driblar|dublar|duplicar|durar|duvidar|ebulir|eclipsar|eclodir|edificar|editar|editorar|educar|efervescer|efetivar|efetuar|ejacular|ejetar|elaborar|electrocutar|eleger|elevar|eliminar|elitizar|elogiar|elucidar|eluir|emanar|emancipar|embalar|embalsamar|embaraçar|embarcar|embater|embaçar|embelezar|embevecer|embocar|embolar|embolsar|emboscar|embriagar|embrulhar|emendar|emergir|emigrar|emitir|empacotar|empatar|empenhar|empilhar|empobrecer|empreender|empregar|empresarializar|emprestar|emprisionar|empunhar|empurrar|emular|enaltecer|encabeçar|encadernar|encaixar|encaminhar|encanar|encantar|encapsular|encarcerar|encarnar|encarregar|encenar|encepar|encerrar|encher|encolher|encomendar|encontrar|encorajar|encurtar|encurvar|endereçar|endividar|endossar|endurecer|enfartar|enferrujar|enfocar|enfraquecer|enfrentar|engajar|enganar|engarrafar|engasgar|engatar|engatinhar|engenhar|engolir|engordar|engrandecer|engraxar|enguiçar|enjoar|enquadrar|enrascar|enriquecer|enrolar|ensaiar|ensear|ensejar|ensinar|entalhar|entender|enterrar|entonar|entrar|entregar|entrelaçar|entreter|entrevistar|entronizar|entulhar|enumerar|enunciar|envelhecer|envenenar|envergar|enviar|enviuvar|envolver|enxaguar|enxertar|equacionar|equalizar|equidistar|equilibrar|equipar|equiparar|equivaler|erodir|erotizar|erradicar|esbanjar|esbarrar|esbulhar|escalar|escandalizar|escapar|escavar|esclarecer|escoar|escolarizar|escolher|escorregar|escovar|escravizar|escrever|escrevinhar|escrutinar|esculpir|escutar|esfacelar|esfolar|esforçar|esfregar|esfriar|esgotar|esguichar|esmagar|esmerar|espacializar|espalhar|espanar|espancar|espantar|espasmar|espaçar|especializar|especificar|espectacularizar|especular|esperar|espessar|espetar|espoliar|espreitar|espremer|esquecer|esquemar|esquematizar|esquentar|esquiar|esquivar|estabelecer|estabilizar|estacar|estacionar|estadualizar|estafar|estagiar|estagnar|estancar|estandardizar|estar|estatizar|estender|esterilizar|estetizar|estigmatizar|estilizar|estimar|estimular|estirar|estofar|estoriar|estragar|estrangular|estrategizar|estratificar|estrear|estreitar|estremecer|estripar|estruturar|estucar|estudar|estupefar|estuporar|estuprar|eternizar|eucaliptizar|europeizar|eutrofizar|evacuar|evadir|evangelizar|evaporar|evidenciar|evitar|evocar|evoluir|exacerbar|exagerar|exaltar|examinar|exasperar|excisar|excitar|exclamar|excluir|excretar|executar|exemplificar|exercer|exercitar|exibir|exigir|exilar|existir|exonerar|exorbitar|expandir|expatriar|expectar|expedir|experienciar|experimentar|expiar|expirar|explanar|explicar|explicitar|explodir|explorar|expor|exportar|expressar|exprimir|expropriar|expulsar|expurgar|exteriorizar|exterminar|extinguir|extorquir|extraditar|extrair|extrapolar|extratar|extraviar|extrudir|exumar|fabricar|facilitar|facturar|fadigar|falar|falecer|falhar|falir|falsear|falsificar|faltar|familiarizar|fascinar|fatigar|faturar|favelizar|fazer|fechar|fecundar|feder|federalizar|federar|felicitar|feminizar|fender|ferir|fermentar|ferrar|fertilizar|ferver|festejar|fetichizar|fiar|fibrilar|ficar|ficcionalizar|fidelizar|figurar|filar|filiar|filmar|filtrar|finalizar|financiar|fingir|firmar|fiscalizar|fixar|flanquear|flexibilizar|florar|florear|florestar|fluorar|flutuar|focalizar|folgar|fomentar|forjar|formalizar|formar|formar,|formatar|formular|fornecer|fornicar|fortalecer|fortificar|forçar|fosfatar|fosforescer|fossilizar|fracassar|fraccionar|fracionar|fracturar|fragilizar|fragmentar|franquear|frasear|fraturar|fraudar|freiar|frequentar|fretar|friccionar|frisar|fritar|fruir|frustrar|frutificar|fugir|fujimorizar|fulanizar|fulgurar|fulminar|fumar|funcionalizar|funcionar|fundamentar|fundar|fundir|fungar|furar|furtar|gaguejar|galantear|galvanizar|ganhar|garantir|gargalhar|gargarejar|gastar|gear|gemer|geminar|generalizar|geometrizar|gerar|gerenciar|gerir|germanizar|germinar|gestar|girar|gladiar|globalizar|golear|golpear|gorjear|gostar|governamentalizar|governar|gozar|gracejar|graduar|granizar|granular|grasnar|gratificar|gratinar|gravar|grelhar|gripar|grunhir|guardar|guarnecer|guerrear|guetizar|guiar|habilitar|habitar|harmonizar|hegemonizar|herdar|hesitar|hidratar|hidrogenar|hierarquizar|higienizar|hipnotizar|hipotecar|historiar|homenagear|homogeneizar|homologar|horrorizar|hospitalizar|hostilizar|humanizar|humilhar|idealizar|identificar|ideologizar|ignorar|igualizar|ilegalizar|ilhar|iludir|iluminar|ilustrar|imaginar|imergir|imigrar|imitar|imobilizar|impacientar|impactar|impedir|impelir|imperar|impermeabilizar|implantar|implementar|implicar|implodir|impor|importar|impregnar|impressionar|imprimir|improvisar|impugnar|impulsionar|imputar|imunizar|inadequar|inalar|inanir|inativar|inaugurar|incendiar|incentivar|inchar|incidir|incinerar|incitar|inclinar|incluir|incomodar|incorporar|incrementar|incubar|incumbir|indagar|indefinir|indenizar|indeterminar|indexar|indicar|indiciar|indignar|indisciplinar|indispor|individualizar|industrializar|induzir|inexistir|infantilizar|infectar|inferir|infestar|infiltrar|inflacionar|inflamar|inflexionar|influenciar|influir|informalizar|informar|informatizar|infortunar|infringir|infundir|ingerir|ingressar|inibir|inicializar|iniciar|injetar|injungir|injuriar|inobservar|inocentar|inocular|inoperar|inovar|inquietar|inquirir|insatisfazer|inscrever|inseminar|inserir|insinuar|insistir|insonorizar|inspecionar|inspirar|instalar|instar|instaurar|instigar|institucionalizar|instituir|instruir|instrumentalizar|instrumentar|insubordinar|insultar|insurgir|integrar|intelectualizar|intencionar|intensificar|interagir|interceder|interceptar|interditar|interessar|interferir|interiorizar|interligar|intermediar|internacionalizar|internalizar|internar|interpelar|interpolar|interpor|interpretar|interrelacionar|interrogar|interromper|intersectar|interver|intervir|intimar|intimidar|intoxicar|introduzir|intrometer|intuir|inundar|inutilizar|invadir|inventar|inverter|investigador|investigar|investir|inviabilizar|involuir|ionizar|ir|irradiar|irrigar|irritar|isentar|islamizar|isolar|italianizar|iterar|jactar|jogar|judicar|judicializar|julgar|juntar|jurar|justapor|justificar|laborar|labutar|lacrimejar|lactar|ladrilhar|laicizar|lamber|lamentar|laminar|lampejar|lanchar|lançar|laquear|largar|lascar|lastimar|latir|lavar|lavrar|legalizar|legendar|legislar|legitimar|leiloar|lembrar|ler|lesar|lesionar|levantar|libanizar|liberar|libertar|licenciar|licitar|lidar|liderar|ligar|limitar|limpar|linchar|liquidar|liquidificar|lisonjear|listar|litigar|litoralizar|lixiviar|localizar|locar|locomover|lotar|lotear|louvar|lubrificar|lucrar|lutar|luxar|macerar|machucar|madrugar|magistrar|magnetizar|magnificar|magoar|malhar|malograr|mamar|mandar|mandingar|manejar|manifestar|manipular|manobrar|manter|manufacturar|manufaturar|maquiar|maquinar|maravilhar|marcar|marchar|marginalizar|mariscar|mascarar|massacrar|massificar|mastigar|masturbar|matar|materializar|matricular|maturar|maxidesvalorizar|maximizar|maçar|mecanizar|mediar|mediatizar|medicar|medir|meditar|melhorar|memorizar|mencionar|mendicar|mendigar|menosprezar|menstruar|mensurar|mentalizar|mentir|mercantilizar|merecer|merendar|mergulhar|metaforizar|metralhar|metrificar|mexer|mexicanizar|miar|migrar|militar|militarizar|minerar|miniaturizar|minimizar|ministrar|mirar|miscigenar|mistificar|misturar|mobiliar|mobilizar|modelar|modelizar|moderar|modernizar|modificar|modular|moer|mofar|moldar|molestar|monetizar|monitorar|monitorizar|monopolizar|monotorizar|montar|moralizar|morar|morder|morrer|mostrar|motivar|motorizar|mover|movimentar|mudar|multar|multiplexar|multiplicar|mundializar|municiar|municipalizar|munir|murmurar|musealizar|mutilar|nacionalizar|nadar|namorar|narrar|nascer|naturalizar|navegar|necessitar|necrosar|negar|negligenciar|negociar|neutralizar|nevar|nivelar|noivar|nomear|nominar|normalizar|normatizar|notar|noticiar|notificar|numerar|nutrir|obedecer|objetar|objetivar|obliterar|obrigar|observar|obsessar|obstinar|obstruir|obter|obturar|ocidentalizar|ocorrer|ocultar|ocupar|ofender|oferecer|ofertar|oficializar|olhar|omitir|ondular|operacionalizar|operar|opinar|opor|oprimir|optar|optimizar|orar|ordenar|ordenhar|organizar|orientar|originar|ornamentar|ornar|orquestrar|orçar|oscilar|ossificar|ostentar|otimizar|outorgar|ouvir|ovular|oxidar|oxigenar|ozonizar|pacientar|pacificar|padecer|padronizar|pagar|paginar|paletar|palpar|palpitar|panificar|parabenizar|parafrasear|paralisar|paralizar|parar|parcelar|parir|parlamentarizar|participar|particularizar|partidarizar|partilhar|partir|passar|passear|pastar|pasteurizar|pastorear|patentear|patinar|patrocinar|pauperizar|pavimentar|pecar|pedir|pedonizar|pegar|pelejar|penalizar|pender|pendurar|penetrar|pensar|pentear|perceber|percorrer|perder|perdoar|peregrinar|performar|perfumar|perfurar|perguntar|periferizar|periodizar|perjurar|permanecer|permitir|permutar|pernoitar|peroxidar|perpetrar|perpetuar|perseguir|perseverar|persistir|personalizar|personificar|persuadir|pertencer|perturbar|perverter|pesar|pescar|pesquisar|pessoalizar|peticionar|piar|picar|pichar|pigmentar|pintar|piorar|piratear|pisar|piscar|plagiar|planar|planejar|planificar|plantar|plastificar|pleitear|podar|polarizar|policiar|polimerizar|polinizar|polir|politicar|politizar|poluir|ponderar|pontapear|pontuar|popular|popularizar|pormenorizar|porrar|portar|posicionar|possibilitar|possuir|postular|potencializar|poupar|pousar|povoar|praticar|precarizar|precaver|preceder|precipitar|precisar|predar|predicar|predispor|predizer|predominar|preencher|prefaciar|preferir|pregar|prejudicar|premiar|prender|preocupar|preparar|preponderar|prescrever|preservar|presidir|pressentir|pressionar|pressupor|pressuposição|pressurizar|prestar|prestidigitar|prestigiar|presumir|pretender|prevalecer|prevenir|prever|principiar|priorizar|privar|privatizar|privilegiar|problematizar|proceder|processar|proclamar|procrastinar|procriar|procurar|produzir|profanar|professar|profissionalizar|prognosticar|programar|progredir|proibir|projetar|proletarizar|proliferar|prolongar|prometer|promover|promulgar|pronunciar|propaganda|propagar|propalar|propelir|propor|propugnar|propulsar|prorrogar|prosar|prospectar|prosseguir|prostituir|protagonizar|proteger|protestar|provar|prover|providenciar|provisionar|provocar|publicar|pular|pulsar|pulverizar|punir|purificar|putrefazer|puxar|qualificar|quantificar|quebrar|quedar|queimar|queixar|querer|questionar|quitar|quotizar|rabiscar|rachar|raciocinar|racionalizar|racionar|radiar|radicalizar|radiopasteurizar|rajar|ramificar|ranger|rapar|raptar|rarear|raspar|rastejar|rastrear|ratear|ratificar|reabastecer|reabilitar|reabrir|reabsorver|reactar|reactualizar|readmitir|reafectar|reafirmar|reagir|reagrupar|reajustar|realimentar|realinhar|realizar|realojar|realçar|reanimar|reaparecer|reapreciar|reaproximar|reaquecer|rearborizar|rearmar|rearranjar|reativar|reavaliar|rebaixar|rebater|rebelar|rebocar|recair|recalcar|recalcitrar|recapitalizar|recapitular|recarregar|recatar|receber|recensear|receptar|rechear|reciclar|recitar|reclamar|reclassificar|recoletar|recolher|recolocar|recolonizar|recombinar|recomendar|recomeçar|recompensar|recompor|reconciliar|reconduzir|reconfigurar|reconfortar|reconhecer|reconquistar|reconsiderar|reconstituir|reconstruir|recontextualizar|reconverter|recordar|recorrer|recortar|recrear|recriar|recriminar|recristalizar|recrudescer|recrutar|recuar|recuperar|recusar|redefinir|redemocratizar|redescobrir|redesenvolver|redigir|redimir|redinamizar|redistribuir|redundar|reduzir|reeditar|reeducar|reelaborar|reeleger|reelevar|reembarcar|reembolsar|reencarnar|reencenar|reentrar|reequilibrar|reequipar|reescalonar|reestruturar|referir|refinar|refletir|reflorestar|refluir|reformar|reformatar|reformular|reforçar|refratar|refrear|refregar|refrigerar|refundar|refutar|regar|regatear|regenerar|reger|regionalizar|registar|registrar|regorjear|regozijar|regredir|regressar|regulamentar|regular|regularizar|regurgitar|reimprimir|reinar|reincidir|reingressar|reiniciar|reinserir|reintegrar|reinterpretar|reintroduzir|reinventar|reinvestir|reinvidicar|reinvindicar|reiterar|rejeitar|relacionar|relampejar|relatar|relativizar|relaxar|relinchar|relocalizar|relocar|relutar|remar|remasterizar|rematar|remediar|rememorar|remendar|remeter|remexer|remodelar|remonetizar|remover|remunerar|renacionalizar|renascer|renaturalizar|render|rendibilizar|renegar|renegociar|renovar|rentabilizar|renunciar|reoperar|reorganizar|reorientar|repagar|reparar|repartir|repassar|repelir|repercutir|repetir|replicar|repor|reportar|reposicionar|repousar|repreender|represar|representar|reprimir|reprivatizar|reproduzir|reprovar|repudiar|reputar|requalificar|requebrar|requerer|requisitar|rescindir|resenhar|resentir|reservar|resgatar|resguardar|residir|resignar|resistir|resolver|respaldar|respeitar|respingar|respirar|resplandecer|responder|responsabilizar|ressaltar|ressalvar|ressegurar|ressentir|ressocializar|ressonar|ressurgir|ressuscitar|restabelecer|restar|restaurar|restituir|restringir|resultar|resumir|retalhar|retaliar|retardar|reter|retificar|retirar|retocar|retomar|retornar|retorquir|retrair|retransmitir|retratar|retribuir|retroceder|reunificar|reunir|reurbanizar|reutilizar|revalorizar|revelar|revender|rever|reverenciar|reverter|revestir|revidar|revisar|revistar|revitalizar|revoar|revogar|revoltar|revolucionar|rezar|ridicularizar|rifar|rimar|rir|riscar|ritualizar|robotizar|rodar|rodopiar|roer|rogar|rolar|romanizar|romper|roncar|rotear|roubar|roçar|ruir|rumar|ruminar|saber|sabotar|sacar|sacolejar|sacralizar|sacrificar|sacudir|sair|salgar|salientar|salinizar|saltar|saltear|salvar|sancionar|sanear|sangrar|sapatear|saquear|saracotear|saraivar|satisfazer|saturar|saudar|secar|seccionar|secretar|secretariar|secularizar|secundarizar|securitizar|sedar|sedentarizar|sediar|sedimentar|seduzir|segmentar|segregar|seguir|segurar|selecionar|semaforizar|semear|semiprofissionalizar|sensibilizar|sentenciar|sentir|separar|sepultar|sequenciar|sequestrar|seriar|serrar|servir|sibilar|significar|silenciar|simbolizar|simplificar|simular|sinalizar|sincronizar|sindicalizar|sindicar|sintetizar|sintonizar|sistematizar|sitiar|situar|sobrar|sobreconsumir|sobredeterminar|sobreinvestir|sobrepagar|sobrepor|sobressaltar|sobrevalorizar|sobreviver|sobrevoar|sociabilizar|socializar|socorrer|sofisticar|sofrer|soldar|solfejar|solicitar|soltar|solucionar|somar|sondar|sonegar|sonhar|sonorizar|soprar|sorrir|sortear|sortir|sossegar|sovar|sponsorizar|standardizar|stressar|suar|suavizar|subalternizar|subcontratar|subdividir|subelevar|subestimar|subir|subjetivar|sublimar|submergir|submeter|subnotificar|subordinar|subornar|subproduzir|subscrever|substituir|subtrair|subutilizar|subvalorizar|subvencionar|subverter|suceder|sugar|sugerir|suicidar|sujeitar|sumir|superar|superlotar|superpor|superproduzir|superqualificar|supervalorizar|supervisionar|suplementar|suplicar|supor|suportar|suprimir|suprir|surpreender|surrar|suspeitar|suspender|suspirar|sussurrar|sustar|sustentar|suturar|tabular|tacar|talhar|talonar|tatuar|taxar|teatralizar|tecer|teimar|telecomandar|telefonar|telegramar|tematizar|temperar|temporizar|tender|tensionar|tentar|teorizar|terceirizar|terciarizar|terminar|territorializar|testar|testemunhar|tingir|tintar|tipificar|tirar|titular|toar|tocar|tolerar|tomar|tonsar|tontear|torcer|torrar|torturar|tosar|tosquiar|tossir|totalizar|toucar|trabalhar|traccionar|traduzir|trair|tramitar|trancar|tranquilizar|transacionar|transbordar|transcender|transcorrer|transcrever|transferir|transfigurar|transformar|transfuse|transgredir|transitar|transladar|translocar|transmitir|transmudar|transmutar|transnacionalizar|transpirar|transplantar|transpor|transportar|transtornar|transumar|trapacear|trasladar|tratar|traumatizar|travar|traçar|treinar|trejeitar|tremelicar|tremer|trepar|treplicar|trespassar|triangular|tributar|trilhar|trinchar|triplicar|tripular|triturar|triunfar|trivializar|trocar|trombar|trovar|troçar|tumultuar|uivar|ulcerar|ultrajar|ulular|unificar|uniformizar|unir|universalizar|urbanizar|urdir|urgir|urvizar|usar|usurpar|utilizar|vacinar|vagar|valer|validar|valorar|valorizar|vampirizar|vandalizar|vaporizar|variar|varrer|vascularizar|vasodilatar|vazar|vedar|vegetar|veicular|velar|velejar|vencer|vender|venerar|ventilar|ver|veranear|verbalizar|verear|verificar|versejar|verter|verticalizar|vestir|vetar|viabilizar|viajar|vibrar|viciar|viger|vigiar|vigorar|vincular|vindicar|vindimar|vingar|violar|violentar|vir|virar|visitar|vistoriar|visualizar|vitimizar|viver|voar|vocalizar|voltar|vomitar|votar|vulgarizar|wikificar|xingar|zangar|zelar|zombar|zumbir|zunir|zurrar)'"
      ]
     },
     "execution_count": 20,
     "metadata": {},
     "output_type": "execute_result"
    }
   ],
   "source": [
    "pattern_verbs"
   ]
  },
  {
   "cell_type": "code",
   "execution_count": 22,
   "metadata": {},
   "outputs": [
    {
     "data": {
      "text/plain": [
       "0          NaN\n",
       "1          NaN\n",
       "2          NaN\n",
       "3          NaN\n",
       "4          NaN\n",
       "          ... \n",
       "1226019    NaN\n",
       "1226020    NaN\n",
       "1226021    NaN\n",
       "1226022    NaN\n",
       "1226023    NaN\n",
       "Name: match_verb, Length: 1226024, dtype: object"
      ]
     },
     "execution_count": 22,
     "metadata": {},
     "output_type": "execute_result"
    }
   ],
   "source": [
    "df_lexicon['match_verb'].str.extract(pattern_verbs, expand=False)"
   ]
  },
  {
   "cell_type": "code",
   "execution_count": null,
   "metadata": {},
   "outputs": [],
   "source": []
  },
  {
   "cell_type": "code",
   "execution_count": null,
   "metadata": {},
   "outputs": [],
   "source": []
  },
  {
   "cell_type": "code",
   "execution_count": null,
   "metadata": {},
   "outputs": [],
   "source": []
  },
  {
   "cell_type": "code",
   "execution_count": null,
   "metadata": {},
   "outputs": [],
   "source": []
  }
 ],
 "metadata": {
  "kernelspec": {
   "display_name": "Python 3 (ipykernel)",
   "language": "python",
   "name": "python3"
  },
  "language_info": {
   "codemirror_mode": {
    "name": "ipython",
    "version": 3
   },
   "file_extension": ".py",
   "mimetype": "text/x-python",
   "name": "python",
   "nbconvert_exporter": "python",
   "pygments_lexer": "ipython3",
   "version": "3.8.12"
  },
  "vscode": {
   "interpreter": {
    "hash": "34c3e7268a9d7c4c8020422fce1d26d016518e0baab014a0ae75fd9ae78cd2f4"
   }
  }
 },
 "nbformat": 4,
 "nbformat_minor": 2
}
