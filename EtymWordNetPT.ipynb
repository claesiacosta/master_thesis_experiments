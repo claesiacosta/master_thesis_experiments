{
 "cells": [
  {
   "cell_type": "code",
   "execution_count": 1,
   "id": "e657f034",
   "metadata": {},
   "outputs": [],
   "source": [
    "import pandas as pd\n",
    "import matplotlib.pyplot as plt\n",
    "import seaborn as sns"
   ]
  },
  {
   "cell_type": "code",
   "execution_count": 2,
   "id": "e143b7a7",
   "metadata": {},
   "outputs": [
    {
     "name": "stdout",
     "output_type": "stream",
     "text": [
      "   Col1      LemmaID       Lemma  POS  Col6  Col7  Col8             Col9  \\\n",
      "0   0.0      Alasca#      Alasca  NaN   NaN   NaN   NaN              NaN   \n",
      "1   0.1    alascano#    alascano  NaN   NaN   NaN   0.0  Type=Derivation   \n",
      "2   0.2    alascana#    alascana  NaN   NaN   NaN   0.1  Type=Derivation   \n",
      "3   1.0   Babilónia#   Babilónia  NaN   NaN   NaN   NaN              NaN   \n",
      "4   1.1  babilónico#  babilónico  NaN   NaN   NaN   1.0  Type=Derivation   \n",
      "\n",
      "   Col10 Col11  \n",
      "0    NaN    {}  \n",
      "1    NaN    {}  \n",
      "2    NaN    {}  \n",
      "3    NaN    {}  \n",
      "4    NaN    {}  \n"
     ]
    }
   ],
   "source": [
    "# Carregando o arquivo de dados\n",
    "file_path = 'data/UDer-1.1-pt-EtymWordNetPT.tsv'\n",
    "df = pd.read_csv(file_path, sep='\\t', header=None)\n",
    "\n",
    "# Renomeando as colunas\n",
    "df.columns = ['Col1', 'LemmaID', 'Lemma', 'POS', 'Col6', 'Col7', 'Col8', 'Col9', 'Col10', 'Col11']\n",
    "\n",
    "# Visualizando as primeiras linhas do DataFrame\n",
    "print(df.head())\n"
   ]
  },
  {
   "cell_type": "code",
   "execution_count": 3,
   "id": "b4c1d859",
   "metadata": {},
   "outputs": [
    {
     "name": "stdout",
     "output_type": "stream",
     "text": [
      "              Col1  POS  Col6  Col7         Col8  Col10\n",
      "count  2797.000000  0.0   0.0   0.0  1610.000000    0.0\n",
      "mean    587.278338  NaN   NaN   NaN   582.907516    NaN\n",
      "std     341.275555  NaN   NaN   NaN   340.196893    NaN\n",
      "min       0.000000  NaN   NaN   NaN     0.000000    NaN\n",
      "25%     297.200000  NaN   NaN   NaN   297.250000    NaN\n",
      "50%     583.300000  NaN   NaN   NaN   578.500000    NaN\n",
      "75%     875.000000  NaN   NaN   NaN   868.000000    NaN\n",
      "max    1186.200000  NaN   NaN   NaN  1186.000000    NaN\n"
     ]
    }
   ],
   "source": [
    "# Resumo estatístico das colunas numéricas\n",
    "print(df.describe())\n"
   ]
  },
  {
   "cell_type": "code",
   "execution_count": 4,
   "id": "5ee4a039",
   "metadata": {},
   "outputs": [
    {
     "name": "stdout",
     "output_type": "stream",
     "text": [
      "Col1       2786\n",
      "LemmaID    2797\n",
      "Lemma      2797\n",
      "POS           0\n",
      "Col6          0\n",
      "Col7          0\n",
      "Col8       1204\n",
      "Col9          1\n",
      "Col10         0\n",
      "Col11        28\n",
      "dtype: int64\n"
     ]
    }
   ],
   "source": [
    "# Contagem de valores únicos em cada coluna\n",
    "print(df.nunique())"
   ]
  },
  {
   "cell_type": "code",
   "execution_count": 5,
   "id": "a73b1a42",
   "metadata": {},
   "outputs": [
    {
     "name": "stdout",
     "output_type": "stream",
     "text": [
      "Col1       float64\n",
      "LemmaID     object\n",
      "Lemma       object\n",
      "POS        float64\n",
      "Col6       float64\n",
      "Col7       float64\n",
      "Col8       float64\n",
      "Col9        object\n",
      "Col10      float64\n",
      "Col11       object\n",
      "dtype: object\n"
     ]
    }
   ],
   "source": [
    "# Verificando os tipos de dados das colunas\n",
    "print(df.dtypes)"
   ]
  },
  {
   "cell_type": "code",
   "execution_count": null,
   "id": "f0b86b9f",
   "metadata": {},
   "outputs": [],
   "source": []
  },
  {
   "cell_type": "code",
   "execution_count": null,
   "id": "1070ea52",
   "metadata": {},
   "outputs": [],
   "source": []
  },
  {
   "cell_type": "code",
   "execution_count": null,
   "id": "a7947b62",
   "metadata": {},
   "outputs": [],
   "source": []
  },
  {
   "cell_type": "code",
   "execution_count": null,
   "id": "037e8f47",
   "metadata": {},
   "outputs": [],
   "source": []
  },
  {
   "cell_type": "code",
   "execution_count": null,
   "id": "b4d2c32d",
   "metadata": {},
   "outputs": [],
   "source": []
  },
  {
   "cell_type": "code",
   "execution_count": null,
   "id": "61fccc44",
   "metadata": {},
   "outputs": [],
   "source": []
  },
  {
   "cell_type": "code",
   "execution_count": null,
   "id": "3a775b7a",
   "metadata": {},
   "outputs": [],
   "source": []
  },
  {
   "cell_type": "code",
   "execution_count": null,
   "id": "afcb5c49",
   "metadata": {},
   "outputs": [],
   "source": []
  }
 ],
 "metadata": {
  "kernelspec": {
   "display_name": "Python 3 (ipykernel)",
   "language": "python",
   "name": "python3"
  },
  "language_info": {
   "codemirror_mode": {
    "name": "ipython",
    "version": 3
   },
   "file_extension": ".py",
   "mimetype": "text/x-python",
   "name": "python",
   "nbconvert_exporter": "python",
   "pygments_lexer": "ipython3",
   "version": "3.8.12"
  }
 },
 "nbformat": 4,
 "nbformat_minor": 5
}
